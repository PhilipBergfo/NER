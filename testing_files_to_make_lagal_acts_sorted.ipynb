{
 "cells": [
  {
   "cell_type": "code",
   "execution_count": 16,
   "metadata": {},
   "outputs": [],
   "source": [
    "import pandas as pd\n",
    "path=\"legalacts.csv\"\n",
    "df=pd.read_csv(path, sep='|')"
   ]
  },
  {
   "cell_type": "code",
   "execution_count": 17,
   "metadata": {},
   "outputs": [],
   "source": [
    "## Change the format of date\n",
    "df['date'] = pd.to_datetime(df['date'], format='%d.%m.%Y', errors='coerce')\n",
    "##  Drop the dates rows ,  where data is not in the correct format\n",
    "df = df.dropna(subset=['date'])\n",
    "## Dropping unwanted columns ######\n",
    "df_cleaned = df.drop(columns=['Unnamed: 0'])\n",
    "\n",
    "## Sorting the dataset\n",
    "df_sorted = df_cleaned.sort_values(by='date', ascending=False)\n",
    "\n",
    "\n",
    "## saving cleaend and sorted dataset\n",
    "path=\"new_data_weather_annotations/clean_sorted_legal_acts.csv\"\n",
    "df_sorted.to_csv(path, sep='|')\n"
   ]
  }
 ],
 "metadata": {
  "kernelspec": {
   "display_name": "ner",
   "language": "python",
   "name": "python3"
  },
  "language_info": {
   "codemirror_mode": {
    "name": "ipython",
    "version": 3
   },
   "file_extension": ".py",
   "mimetype": "text/x-python",
   "name": "python",
   "nbconvert_exporter": "python",
   "pygments_lexer": "ipython3",
   "version": "3.11.4"
  }
 },
 "nbformat": 4,
 "nbformat_minor": 2
}
